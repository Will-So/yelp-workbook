{
 "cells": [
  {
   "cell_type": "markdown",
   "metadata": {},
   "source": [
    "# Contents"
   ]
  },
  {
   "cell_type": "markdown",
   "metadata": {},
   "source": [
    "1. Stratified vs Random Sampling\n",
    "2. Out of memory sampling\n",
    "    - Spark\n",
    "    - AWS Server\n",
    "    - FF\n",
    "    - random.sample()\n",
    "    - SQL database\n",
    "    - PyTables random sampling\n",
    "    "
   ]
  },
  {
   "cell_type": "markdown",
   "metadata": {},
   "source": [
    "# Two Important Methods of Random Sampling"
   ]
  },
  {
   "cell_type": "markdown",
   "metadata": {},
   "source": [
    "When most people think of random sampling, they think of Simple Random Sampling. If we have 1000 observations in our sample and we only want 100, simple random sampling will pick 100 from the 1000 with equal probability. "
   ]
  },
  {
   "cell_type": "markdown",
   "metadata": {},
   "source": [
    "## Stratified Sampling"
   ]
  },
  {
   "cell_type": "markdown",
   "metadata": {},
   "source": [
    "### Why we would use Stratified Sampling"
   ]
  },
  {
   "cell_type": "markdown",
   "metadata": {},
   "source": [
    "The main benefit of stratified sampling is that it increases the likelihood that our sample remains an accurate sample of the population. This property is especially valuable when collecting additional observations is expensive. "
   ]
  },
  {
   "cell_type": "markdown",
   "metadata": {},
   "source": [
    "### Specifying Subpopulations"
   ]
  },
  {
   "cell_type": "markdown",
   "metadata": {},
   "source": [
    "When specifying subpopulations, the following conditions apply:\n",
    "\n",
    "1. Each subpopulation **must** be mutually exclsusive. \n",
    "2. All the strata should include every element of the population\n",
    "![](https://dl.dropboxusercontent.com/u/97258109/Screens/S3027.png)\n",
    "\n",
    "With some thought, we can split the population to take account of both age and arthritis status while satisfying both the conditions above:\n",
    "\n",
    "![](https://dl.dropboxusercontent.com/u/97258109/Screens/S3028.png)"
   ]
  },
  {
   "cell_type": "markdown",
   "metadata": {},
   "source": [
    "Once we have specified our strata, we then need to determine the appropriate size of each stratum. This requires either knowing (or reasonably well estimating) the ratios of each stratum. As this will usually require parsing the entire dataset, "
   ]
  },
  {
   "cell_type": "markdown",
   "metadata": {},
   "source": [
    "### Stratified Sampling In Python"
   ]
  },
  {
   "cell_type": "markdown",
   "metadata": {},
   "source": []
  },
  {
   "cell_type": "markdown",
   "metadata": {},
   "source": [
    "## Simple Random Sampling"
   ]
  },
  {
   "cell_type": "markdown",
   "metadata": {},
   "source": []
  },
  {
   "cell_type": "code",
   "execution_count": null,
   "metadata": {
    "collapsed": true
   },
   "outputs": [],
   "source": []
  },
  {
   "cell_type": "markdown",
   "metadata": {},
   "source": [
    "# References"
   ]
  },
  {
   "cell_type": "markdown",
   "metadata": {},
   "source": [
    "- [On PyTables Selection](http://stackoverflow.com/questions/21039772/pytables-read-random-subset)\n",
    "- [Good Dissertation](http://courses.cs.washington.edu/courses/cse590q/05au/papers/Olken-Sampling.pdf)\n",
    "- [Stratified Sampling wiki](http://en.wikipedia.org/wiki/Stratified_sampling)"
   ]
  }
 ],
 "metadata": {
  "kernelspec": {
   "display_name": "Python 3",
   "language": "python",
   "name": "python3"
  },
  "language_info": {
   "codemirror_mode": {
    "name": "ipython",
    "version": 3
   },
   "file_extension": ".py",
   "mimetype": "text/x-python",
   "name": "python",
   "nbconvert_exporter": "python",
   "pygments_lexer": "ipython3",
   "version": "3.4.3"
  }
 },
 "nbformat": 4,
 "nbformat_minor": 0
}
