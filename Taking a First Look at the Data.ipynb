{
 "cells": [
  {
   "cell_type": "markdown",
   "metadata": {},
   "source": [
    "# Introduction"
   ]
  },
  {
   "cell_type": "markdown",
   "metadata": {},
   "source": [
    "# Things we want to look at"
   ]
  },
  {
   "cell_type": "markdown",
   "metadata": {},
   "source": [
    "- Examine the type of businesses in each city. Do different cities have markedly different proportions of businesses or are they similar? \n"
   ]
  },
  {
   "cell_type": "markdown",
   "metadata": {},
   "source": [
    "# Using Pandas for Quick Visualizations"
   ]
  },
  {
   "cell_type": "markdown",
   "metadata": {},
   "source": [
    "There are many options in the Python ecosystem for visualization. When first exploring the dataset, I find it useful to use the visualization API that Pandas uses. These lack a certain amount of flexibility and presentability but it allows us to quickly examine the data."
   ]
  },
  {
   "cell_type": "markdown",
   "metadata": {},
   "source": [
    "## Other Options for Visualization"
   ]
  },
  {
   "cell_type": "markdown",
   "metadata": {},
   "source": [
    "In the next section, we will consider Tableau for our visualization needs. My favorite options using Python include\n",
    "\n",
    "1. [Bokeh](http://bokeh.pydata.org/en/latest/)\n",
    "    - The visualizations are somewhat ugly but it makes use of the Grammar of Graphics and we can use it with large datasets. \n",
    "2. [Vincent](https://github.com/wrobstory/vincent)\n",
    "    - Good for making simple visualizations that are both presentable and easy to use. Uses D3 as a backend. \n",
    "3. GGplot.\n",
    "    - A Python port exists but I have always had difficulties with it. Ggplot is a great library and it is often worth the extra effort of loading the data in R to use it. "
   ]
  },
  {
   "cell_type": "markdown",
   "metadata": {},
   "source": [
    "# Getting Started"
   ]
  },
  {
   "cell_type": "code",
   "execution_count": null,
   "metadata": {
    "collapsed": true
   },
   "outputs": [],
   "source": []
  }
 ],
 "metadata": {
  "kernelspec": {
   "display_name": "Python 3",
   "language": "python",
   "name": "python3"
  },
  "language_info": {
   "codemirror_mode": {
    "name": "ipython",
    "version": 3
   },
   "file_extension": ".py",
   "mimetype": "text/x-python",
   "name": "python",
   "nbconvert_exporter": "python",
   "pygments_lexer": "ipython3",
   "version": "3.4.3"
  }
 },
 "nbformat": 4,
 "nbformat_minor": 0
}
