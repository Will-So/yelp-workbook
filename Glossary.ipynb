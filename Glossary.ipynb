{
 "cells": [
  {
   "cell_type": "markdown",
   "metadata": {},
   "source": [
    "Below is a list of words and abbreviations I use in this tutorial.\n",
    "\n",
    "Word | Definition\n",
    "-- | --\n",
    "RBDMS | Relational Database Management System. A DB that can be queried via SQL. \n",
    "VPS | Virtual Private Server. This is what services like EC2 offer. \n",
    "Out of Core operations | Operations that can be performed without loading all of the data into memory. This can also be called a streaming operation. \n",
    "Boolean Reductions |"
   ]
  },
  {
   "cell_type": "code",
   "execution_count": null,
   "metadata": {
    "collapsed": true
   },
   "outputs": [],
   "source": []
  }
 ],
 "metadata": {
  "kernelspec": {
   "display_name": "Python 3",
   "language": "python",
   "name": "python3"
  },
  "language_info": {
   "codemirror_mode": {
    "name": "ipython",
    "version": 3
   },
   "file_extension": ".py",
   "mimetype": "text/x-python",
   "name": "python",
   "nbconvert_exporter": "python",
   "pygments_lexer": "ipython3",
   "version": "3.4.3"
  }
 },
 "nbformat": 4,
 "nbformat_minor": 0
}
