{
 "cells": [
  {
   "cell_type": "markdown",
   "metadata": {},
   "source": [
    "# Table of Contents"
   ]
  },
  {
   "cell_type": "markdown",
   "metadata": {},
   "source": [
    "# Tools Used"
   ]
  },
  {
   "cell_type": "markdown",
   "metadata": {},
   "source": [
    "What this mega-tutorial does differently from other books is that it consistently makes use of a variety of different tools. The advantage of this strategy is that it lets us work more quickly once we know how the tools work. A major disadvantage is that it requires learning several different libraries and tools rather than just `NumPy` and `Sklearn`"
   ]
  },
  {
   "cell_type": "markdown",
   "metadata": {},
   "source": [
    "# The benefits of using a Single Dataset"
   ]
  },
  {
   "cell_type": "markdown",
   "metadata": {},
   "source": [
    "Throughout this mega-tutorial I make use of only a single dataset. Focusing on just one dataset the entire time allows us to \n",
    "\n",
    "In the real world, data scientists are typically going to be inspecting several different aspects of a dataset for a relatively long period of time. "
   ]
  },
  {
   "cell_type": "markdown",
   "metadata": {},
   "source": [
    "# Why the Yelp Dataset?"
   ]
  },
  {
   "cell_type": "markdown",
   "metadata": {},
   "source": [
    "## Good Size"
   ]
  },
  {
   "cell_type": "markdown",
   "metadata": {},
   "source": [
    "# A Note on Terminology and Notation"
   ]
  },
  {
   "cell_type": "markdown",
   "metadata": {},
   "source": [
    "Analytics has become such an interdisciplinary subject over the years that it seems like every single concept has at least 5 names. In the literature the $\\vec{x}$ in $p(y|\\vec{x})$ can be referred to as the following things:\n",
    "\n",
    "1. Regressors\n",
    "2. Features (Machine Learning) \n",
    "3. Input Variable (Machine Learning)\n",
    "3. Independent Variable \n",
    "4. Exogenous variable\n",
    "6. Predictor variable\n",
    "5. Explanatory variable\n",
    "\n",
    "As I am an econometrician by training, I will usually be calling $\\vec{x}$. I believe that Practioners in the field will inevitably have to put up with the mixed up jargon for another\n",
    "\n",
    "See the glossary in this mega-tutorial for synonyms for terms and acryonyms used in this book. "
   ]
  },
  {
   "cell_type": "markdown",
   "metadata": {},
   "source": [
    "# The Appendix"
   ]
  },
  {
   "cell_type": "markdown",
   "metadata": {},
   "source": [
    "The appendix covers topics that are, strictly speaking, not necessary to apply the modeling techniques implemented in this tutorial. \n",
    "\n",
    "They are, important, however for those who are using these modeling techniques in a context that is important. "
   ]
  },
  {
   "cell_type": "code",
   "execution_count": null,
   "metadata": {
    "collapsed": true
   },
   "outputs": [],
   "source": []
  }
 ],
 "metadata": {
  "kernelspec": {
   "display_name": "Python 3",
   "language": "python",
   "name": "python3"
  },
  "language_info": {
   "codemirror_mode": {
    "name": "ipython",
    "version": 3
   },
   "file_extension": ".py",
   "mimetype": "text/x-python",
   "name": "python",
   "nbconvert_exporter": "python",
   "pygments_lexer": "ipython3",
   "version": "3.4.3"
  }
 },
 "nbformat": 4,
 "nbformat_minor": 0
}
